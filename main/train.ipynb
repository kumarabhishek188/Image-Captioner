{
 "cells": [
  {
   "cell_type": "markdown",
   "metadata": {},
   "source": [
    "# Step 1: Load and prepare the dataset"
   ]
  },
  {
   "cell_type": "code",
   "execution_count": 1,
   "metadata": {},
   "outputs": [],
   "source": [
    "import os\n",
    "import string\n",
    "from numpy import array\n",
    "from PIL import Image\n",
    "from tensorflow.keras.preprocessing.text import Tokenizer\n",
    "from tensorflow.keras.preprocessing.sequence import pad_sequences\n",
    "from tensorflow.keras.utils import to_categorical\n",
    "from tensorflow.keras.preprocessing.image import load_img, img_to_array\n",
    "from tensorflow.keras.applications.vgg16 import VGG16, preprocess_input\n",
    "from tensorflow.keras.models import Model\n",
    "import numpy as np"
   ]
  },
  {
   "cell_type": "markdown",
   "metadata": {},
   "source": [
    "# Load image features (assuming images are in a 'Flickr30k_images' folder)"
   ]
  },
  {
   "cell_type": "code",
   "execution_count": 2,
   "metadata": {},
   "outputs": [],
   "source": [
    "def load_image(path, target_size=(224, 224)):\n",
    "    img = load_img(path, target_size=target_size)  # Load the image with PIL\n",
    "    img = img_to_array(img)  # Convert to array\n",
    "    img = preprocess_input(img)  # Preprocess for VGG16\n",
    "    return img"
   ]
  },
  {
   "cell_type": "markdown",
   "metadata": {},
   "source": [
    "# Load captions file"
   ]
  },
  {
   "cell_type": "code",
   "execution_count": 3,
   "metadata": {},
   "outputs": [],
   "source": [
    "def load_captions(filename):\n",
    "    with open(filename, 'r') as file:\n",
    "        captions = file.read()\n",
    "    return captions"
   ]
  },
  {
   "cell_type": "markdown",
   "metadata": {},
   "source": [
    "# Parse captions"
   ]
  },
  {
   "cell_type": "code",
   "execution_count": 4,
   "metadata": {},
   "outputs": [],
   "source": [
    "def parse_captions(captions):\n",
    "    descriptions = {}\n",
    "    for line in captions.split('\\n'):\n",
    "        tokens = line.split('\\t')\n",
    "        if len(tokens) < 2:\n",
    "            continue\n",
    "        image_id, caption = tokens[0], tokens[1]\n",
    "        image_id = image_id.split('.')[0]  # Extract image ID\n",
    "        if image_id not in descriptions:\n",
    "            descriptions[image_id] = []\n",
    "        descriptions[image_id].append(caption)\n",
    "    return descriptions"
   ]
  },
  {
   "cell_type": "markdown",
   "metadata": {},
   "source": [
    "# Apply all preprocessing steps"
   ]
  },
  {
   "cell_type": "code",
   "execution_count": null,
   "metadata": {},
   "outputs": [],
   "source": [
    "captions_file = 'Flickr30k.token.txt'\n",
    "captions_text = load_captions(captions_file)\n",
    "descriptions = parse_captions(captions_text)"
   ]
  },
  {
   "cell_type": "code",
   "execution_count": 9,
   "metadata": {},
   "outputs": [
    {
     "name": "stdout",
     "output_type": "stream",
     "text": [
      "Loaded and parsed captions successfully!\n"
     ]
    }
   ],
   "source": [
    "print(\"Loaded and parsed captions successfully!\")"
   ]
  },
  {
   "cell_type": "code",
   "execution_count": 10,
   "metadata": {},
   "outputs": [],
   "source": [
    "\n",
    "from tensorflow.keras.layers import Input, Dense, Embedding, LSTM, Dropout, add\n",
    "from tensorflow.keras.models import Model\n",
    "from tensorflow.keras.applications.vgg16 import VGG16\n"
   ]
  },
  {
   "cell_type": "code",
   "execution_count": 11,
   "metadata": {},
   "outputs": [],
   "source": [
    "# Load VGG16 model pre-trained on ImageNet, excluding the top classification layer\n",
    "def create_encoder_model():\n",
    "    vgg = VGG16(weights=\"imagenet\", include_top=False, input_shape=(224, 224, 3))\n",
    "    for layer in vgg.layers:\n",
    "        layer.trainable = False\n",
    "    return Model(inputs=vgg.input, outputs=vgg.layers[-1].output)"
   ]
  },
  {
   "cell_type": "code",
   "execution_count": 12,
   "metadata": {},
   "outputs": [],
   "source": [
    "# Define the decoder model\n",
    "def create_decoder_model(vocab_size, max_length):\n",
    "    # Input for image features\n",
    "    inputs1 = Input(shape=(7, 7, 512))\n",
    "    fe1 = Dense(256, activation='relu')(inputs1)\n",
    "    fe2 = Dropout(0.5)(fe1)\n",
    "    fe3 = Dense(256, activation='relu')(fe2)\n",
    "    \n",
    "    # Input for the sequence of words (captions)\n",
    "    inputs2 = Input(shape=(max_length,))\n",
    "    se1 = Embedding(vocab_size, 256, mask_zero=True)(inputs2)\n",
    "    se2 = Dropout(0.5)(se1)\n",
    "    se3 = LSTM(256)(se2)\n",
    "\n",
    "    # Decoder (combines image and text features)\n",
    "    decoder1 = add([fe3, se3])\n",
    "    decoder2 = Dense(256, activation='relu')(decoder1)\n",
    "    outputs = Dense(vocab_size, activation='softmax')(decoder2)\n",
    "\n",
    "    return Model(inputs=[inputs1, inputs2], outputs=outputs)\n"
   ]
  },
  {
   "cell_type": "code",
   "execution_count": 13,
   "metadata": {},
   "outputs": [
    {
     "name": "stdout",
     "output_type": "stream",
     "text": [
      "Downloading data from https://storage.googleapis.com/tensorflow/keras-applications/vgg16/vgg16_weights_tf_dim_ordering_tf_kernels_notop.h5\n",
      "58889256/58889256 [==============================] - 21s 0us/step\n"
     ]
    }
   ],
   "source": [
    "# Instantiate the encoder and decoder models\n",
    "encoder = create_encoder_model()\n",
    "decoder = create_decoder_model(vocab_size=10000, max_length=34)  # Adjust vocab_size and max_length as needed"
   ]
  },
  {
   "cell_type": "code",
   "execution_count": 15,
   "metadata": {},
   "outputs": [
    {
     "name": "stdout",
     "output_type": "stream",
     "text": [
      "Model created successfully!\n"
     ]
    }
   ],
   "source": [
    "print(\"Model created successfully!\")"
   ]
  }
 ],
 "metadata": {
  "kernelspec": {
   "display_name": "Python 3",
   "language": "python",
   "name": "python3"
  },
  "language_info": {
   "codemirror_mode": {
    "name": "ipython",
    "version": 3
   },
   "file_extension": ".py",
   "mimetype": "text/x-python",
   "name": "python",
   "nbconvert_exporter": "python",
   "pygments_lexer": "ipython3",
   "version": "3.11.3"
  }
 },
 "nbformat": 4,
 "nbformat_minor": 2
}
